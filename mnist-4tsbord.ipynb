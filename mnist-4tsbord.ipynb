{
 "cells": [
  {
   "cell_type": "code",
   "execution_count": 1,
   "metadata": {
    "collapsed": false
   },
   "outputs": [
    {
     "name": "stdout",
     "output_type": "stream",
     "text": [
      "Extracting MNIST_data/train-images-idx3-ubyte.gz\n",
      "Extracting MNIST_data/train-labels-idx1-ubyte.gz\n",
      "Extracting MNIST_data/t10k-images-idx3-ubyte.gz\n",
      "Extracting MNIST_data/t10k-labels-idx1-ubyte.gz\n"
     ]
    }
   ],
   "source": [
    "import tensorflow as tf\n",
    "# 获取数据\n",
    "import tensorflow.examples.tutorials.mnist.input_data as input_data\n",
    "log_dir = 'log_dir/'\n",
    "\n",
    "max_steps = 1000\n",
    "learning_rate = 0.001\n",
    "dropout = 0.9\n",
    "\n",
    "mnist = input_data.read_data_sets(\"MNIST_data/\", one_hot=True)\n",
    "sess = tf.InteractiveSession()"
   ]
  },
  {
   "cell_type": "code",
   "execution_count": 2,
   "metadata": {
    "collapsed": true
   },
   "outputs": [],
   "source": [
    "# 定义输入\n",
    "with tf.name_scope('input'):\n",
    "    x = tf.placeholder(tf.float32, [None, 784],name='x-input')\n",
    "    y_ = tf.placeholder(tf.float32, [None, 10],name='y-input')\n",
    "    \n",
    "with tf.name_scope('input_reshape'):\n",
    "    image_shaped_input = tf.reshape(x,[-1,28,28,1])\n",
    "    tf.summary.image('input',image_shaped_input,10)\n"
   ]
  },
  {
   "cell_type": "code",
   "execution_count": 3,
   "metadata": {
    "collapsed": true
   },
   "outputs": [],
   "source": [
    "# 初始化\n",
    "def weight_variable(shape):\n",
    "    initial = tf.truncated_normal(shape,stddev=0.1)\n",
    "    return tf.Variable(initial)"
   ]
  },
  {
   "cell_type": "code",
   "execution_count": 4,
   "metadata": {
    "collapsed": true
   },
   "outputs": [],
   "source": [
    "# 初始化\n",
    "def bias_variable(shape):\n",
    "    initial = tf.constant(0.1,shape=shape)\n",
    "    return tf.Variable(initial)"
   ]
  },
  {
   "cell_type": "code",
   "execution_count": 5,
   "metadata": {
    "collapsed": true
   },
   "outputs": [],
   "source": [
    "# 定义数据汇总函数\n",
    "def variable_summaries(var):\n",
    "    with tf.name_scope('summaries'):\n",
    "        mean = tf.reduce_mean(var)\n",
    "        tf.summary.scalar('mean',mean)\n",
    "        with tf.name_scope('stddev'):\n",
    "            stddev = tf.sqrt(tf.reduce_mean(tf.square(var-mean)))\n",
    "        tf.summary.scalar('stddev',stddev)\n",
    "        tf.summary.scalar('max',tf.reduce_max(var))\n",
    "        tf.summary.scalar('min',tf.reduce_min(var))\n",
    "        tf.summary.histogram('histogram',var)       "
   ]
  },
  {
   "cell_type": "code",
   "execution_count": 6,
   "metadata": {
    "collapsed": true
   },
   "outputs": [],
   "source": [
    "# 定义多层神经网络\n",
    "def nn_layer(input_tensor,input_dim,output_dim,layer_name,act=tf.nn.relu):\n",
    "    with tf.name_scope(layer_name):\n",
    "        with tf.name_scope('weights'):\n",
    "            # 初始化\n",
    "            weights = weight_variable([input_dim,output_dim])\n",
    "            # 汇总var信息\n",
    "            variable_summaries(weights)\n",
    "        with tf.name_scope('biases'):\n",
    "            # 初始化\n",
    "            biases = bias_variable([output_dim])\n",
    "            # 汇总var信息\n",
    "            variable_summaries(biases)\n",
    "        with tf.name_scope('WX_plus_b'):\n",
    "            preactivate = tf.matmul(input_tensor,weights) + biases\n",
    "            tf.summary.histogram('pre_activations',preactivate)\n",
    "        activations = act(preactivate,name='activation')\n",
    "        tf.summary.histogram('activations',activations)\n",
    "        return activations"
   ]
  },
  {
   "cell_type": "code",
   "execution_count": 7,
   "metadata": {
    "collapsed": true
   },
   "outputs": [],
   "source": [
    "hidden1 = nn_layer(x,784,500,'layer1')"
   ]
  },
  {
   "cell_type": "code",
   "execution_count": 8,
   "metadata": {
    "collapsed": true
   },
   "outputs": [],
   "source": [
    "# 创建dropout层\n",
    "with tf.name_scope('dropout'):\n",
    "    keep_prob = tf.placeholder(tf.float32)\n",
    "    tf.summary.scalar('dropout_keep-probability',keep_prob)\n",
    "    # dropout层\n",
    "    dropped = tf.nn.dropout(hidden1,keep_prob)\n"
   ]
  },
  {
   "cell_type": "code",
   "execution_count": 9,
   "metadata": {
    "collapsed": true
   },
   "outputs": [],
   "source": [
    "# 定义输出层\n",
    "# 输入是上一层的500个节点，输出是10个分类\n",
    "# 输出激活函数使用全等映射identit\n",
    "y = nn_layer(dropped,500,10,'layer2',act=tf.identity)"
   ]
  },
  {
   "cell_type": "code",
   "execution_count": 10,
   "metadata": {
    "collapsed": false
   },
   "outputs": [
    {
     "data": {
      "text/plain": [
       "<tf.Tensor 'cross_entropy_1:0' shape=() dtype=string>"
      ]
     },
     "execution_count": 10,
     "metadata": {},
     "output_type": "execute_result"
    }
   ],
   "source": [
    "# 定义损失 使用交叉熵\n",
    "with tf.name_scope('cross_entropy'):\n",
    "    diff = tf.nn.softmax_cross_entropy_with_logits(logits=y,labels=y_)\n",
    "    with tf.name_scope('total'):\n",
    "        cross_entropy = tf.reduce_mean(diff)\n",
    "tf.summary.scalar('cross_entropy',cross_entropy)"
   ]
  },
  {
   "cell_type": "code",
   "execution_count": 11,
   "metadata": {
    "collapsed": false
   },
   "outputs": [
    {
     "data": {
      "text/plain": [
       "<tf.Tensor 'accuracy_1:0' shape=() dtype=string>"
      ]
     },
     "execution_count": 11,
     "metadata": {},
     "output_type": "execute_result"
    }
   ],
   "source": [
    "# 定义优化器\n",
    "with tf.name_scope('train'):\n",
    "    train_step = tf.train.AdamOptimizer(learning_rate).minimize(cross_entropy)\n",
    "with tf.name_scope('accuracy'):\n",
    "    with tf.name_scope('correct_prediction'):\n",
    "        correct_prediction = tf.equal(tf.argmax(y,1),tf.argmax(y_,1))\n",
    "    with tf.name_scope('accuracy'):\n",
    "        accuracy = tf.reduce_mean(tf.cast(correct_prediction,tf.float32))\n",
    "tf.summary.scalar('accuracy',accuracy)"
   ]
  },
  {
   "cell_type": "code",
   "execution_count": 12,
   "metadata": {
    "collapsed": false
   },
   "outputs": [],
   "source": [
    "# 汇总summary\n",
    "merged = tf.summary.merge_all()\n",
    "train_writer = tf.summary.FileWriter(log_dir + '/train',sess.graph)"
   ]
  },
  {
   "cell_type": "code",
   "execution_count": 13,
   "metadata": {
    "collapsed": true
   },
   "outputs": [],
   "source": [
    "test_writer = tf.summary.FileWriter(log_dir + '/test')\n",
    "tf.global_variables_initializer().run()"
   ]
  },
  {
   "cell_type": "code",
   "execution_count": 14,
   "metadata": {
    "collapsed": true
   },
   "outputs": [],
   "source": [
    "# 定义feed_dict\n",
    "def feed_dict(train):\n",
    "    if train:\n",
    "        xs,ys = mnist.train.next_batch(100)\n",
    "        k = dropout\n",
    "    else:\n",
    "        xs,ys = mnist.test.images,mnist.test.labels\n",
    "        k = 1.0\n",
    "    return {x:xs,y_:ys,keep_prob:k}"
   ]
  },
  {
   "cell_type": "code",
   "execution_count": 15,
   "metadata": {
    "collapsed": false
   },
   "outputs": [
    {
     "name": "stdout",
     "output_type": "stream",
     "text": [
      "Accuracy at step 0:0.1212\n",
      "Accuracy at step 10:0.697\n",
      "Accuracy at step 20:0.7998\n",
      "Accuracy at step 30:0.8648\n",
      "Accuracy at step 40:0.8838\n",
      "Accuracy at step 50:0.8893\n",
      "Accuracy at step 60:0.8986\n",
      "Accuracy at step 70:0.9023\n",
      "Accuracy at step 80:0.9105\n",
      "Accuracy at step 90:0.9163\n",
      "Adding run metadata for  99\n",
      "Accuracy at step 100:0.9116\n",
      "Accuracy at step 110:0.9209\n",
      "Accuracy at step 120:0.9269\n",
      "Accuracy at step 130:0.9252\n",
      "Accuracy at step 140:0.9237\n",
      "Accuracy at step 150:0.9245\n",
      "Accuracy at step 160:0.925\n",
      "Accuracy at step 170:0.9216\n",
      "Accuracy at step 180:0.9309\n",
      "Accuracy at step 190:0.9334\n",
      "Adding run metadata for  199\n",
      "Accuracy at step 200:0.9322\n",
      "Accuracy at step 210:0.9312\n",
      "Accuracy at step 220:0.9398\n",
      "Accuracy at step 230:0.9404\n",
      "Accuracy at step 240:0.9406\n",
      "Accuracy at step 250:0.9411\n",
      "Accuracy at step 260:0.9411\n",
      "Accuracy at step 270:0.944\n",
      "Accuracy at step 280:0.9447\n",
      "Accuracy at step 290:0.9443\n",
      "Adding run metadata for  299\n",
      "Accuracy at step 300:0.9428\n",
      "Accuracy at step 310:0.9481\n",
      "Accuracy at step 320:0.9435\n",
      "Accuracy at step 330:0.9451\n",
      "Accuracy at step 340:0.9427\n",
      "Accuracy at step 350:0.9467\n",
      "Accuracy at step 360:0.9486\n",
      "Accuracy at step 370:0.9502\n",
      "Accuracy at step 380:0.9504\n",
      "Accuracy at step 390:0.9492\n",
      "Adding run metadata for  399\n",
      "Accuracy at step 400:0.9513\n",
      "Accuracy at step 410:0.9481\n",
      "Accuracy at step 420:0.952\n",
      "Accuracy at step 430:0.9531\n",
      "Accuracy at step 440:0.9515\n",
      "Accuracy at step 450:0.9495\n",
      "Accuracy at step 460:0.9563\n",
      "Accuracy at step 470:0.9548\n",
      "Accuracy at step 480:0.9551\n",
      "Accuracy at step 490:0.9511\n",
      "Adding run metadata for  499\n",
      "Accuracy at step 500:0.953\n",
      "Accuracy at step 510:0.955\n",
      "Accuracy at step 520:0.9571\n",
      "Accuracy at step 530:0.9557\n",
      "Accuracy at step 540:0.9557\n",
      "Accuracy at step 550:0.9609\n",
      "Accuracy at step 560:0.9605\n",
      "Accuracy at step 570:0.9599\n",
      "Accuracy at step 580:0.9607\n",
      "Accuracy at step 590:0.9588\n",
      "Adding run metadata for  599\n",
      "Accuracy at step 600:0.9578\n",
      "Accuracy at step 610:0.9619\n",
      "Accuracy at step 620:0.9605\n",
      "Accuracy at step 630:0.959\n",
      "Accuracy at step 640:0.958\n",
      "Accuracy at step 650:0.9597\n",
      "Accuracy at step 660:0.9621\n",
      "Accuracy at step 670:0.9625\n",
      "Accuracy at step 680:0.9631\n",
      "Accuracy at step 690:0.9645\n",
      "Adding run metadata for  699\n",
      "Accuracy at step 700:0.9622\n",
      "Accuracy at step 710:0.9632\n",
      "Accuracy at step 720:0.9623\n",
      "Accuracy at step 730:0.9609\n",
      "Accuracy at step 740:0.9634\n",
      "Accuracy at step 750:0.9626\n",
      "Accuracy at step 760:0.9624\n",
      "Accuracy at step 770:0.964\n",
      "Accuracy at step 780:0.9616\n",
      "Accuracy at step 790:0.9647\n",
      "Adding run metadata for  799\n",
      "Accuracy at step 800:0.9563\n",
      "Accuracy at step 810:0.9623\n",
      "Accuracy at step 820:0.9651\n",
      "Accuracy at step 830:0.9631\n",
      "Accuracy at step 840:0.9633\n",
      "Accuracy at step 850:0.9631\n",
      "Accuracy at step 860:0.964\n",
      "Accuracy at step 870:0.9667\n",
      "Accuracy at step 880:0.9665\n",
      "Accuracy at step 890:0.9685\n",
      "Adding run metadata for  899\n",
      "Accuracy at step 900:0.9687\n",
      "Accuracy at step 910:0.9681\n",
      "Accuracy at step 920:0.9696\n",
      "Accuracy at step 930:0.9682\n",
      "Accuracy at step 940:0.9677\n",
      "Accuracy at step 950:0.9678\n",
      "Accuracy at step 960:0.9677\n",
      "Accuracy at step 970:0.9645\n",
      "Accuracy at step 980:0.9687\n",
      "Accuracy at step 990:0.9653\n",
      "Adding run metadata for  999\n"
     ]
    }
   ],
   "source": [
    "# 创建模型保存器，保存模型\n",
    "saver = tf.train.Saver()\n",
    "for i in range(max_steps):\n",
    "    # 每执行10步，执行数据汇总，写入log文件\n",
    "    if i % 10 == 0:\n",
    "        summary,acc = sess.run([merged,accuracy],feed_dict=feed_dict(False))\n",
    "        # 写入log\n",
    "        test_writer.add_summary(summary,i)\n",
    "        print \"Accuracy at step %s:%s\" % (i,acc)\n",
    "    else:\n",
    "        if i% 100 == 99:\n",
    "            run_options = tf.RunOptions(trace_level=tf.RunOptions.FULL_TRACE)\n",
    "            run_metadata = tf.RunMetadata()\n",
    "            summary,_ = sess.run([merged,train_step],feed_dict=feed_dict(True),options=run_options,run_metadata=run_metadata)\n",
    "            train_writer.add_run_metadata(run_metadata,'step%03d'%i)\n",
    "            train_writer.add_summary(summary,i)\n",
    "            saver.save(sess,log_dir + \"/model.ckpt\",i)\n",
    "            print \"Adding run metadata for \",i\n",
    "        else:\n",
    "            summary,_ = sess.run([merged,train_step],feed_dict=feed_dict(True))\n",
    "            train_writer.add_summary(summary,i)\n",
    "            \n",
    "train_writer.close()\n",
    "test_writer.close()"
   ]
  }
 ],
 "metadata": {
  "anaconda-cloud": {},
  "kernelspec": {
   "display_name": "Python [default]",
   "language": "python",
   "name": "python2"
  },
  "language_info": {
   "codemirror_mode": {
    "name": "ipython",
    "version": 2
   },
   "file_extension": ".py",
   "mimetype": "text/x-python",
   "name": "python",
   "nbconvert_exporter": "python",
   "pygments_lexer": "ipython2",
   "version": "2.7.12"
  }
 },
 "nbformat": 4,
 "nbformat_minor": 1
}
